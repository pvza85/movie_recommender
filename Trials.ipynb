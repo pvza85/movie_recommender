{
 "cells": [
  {
   "cell_type": "code",
   "execution_count": 49,
   "metadata": {
    "collapsed": false,
    "deletable": true,
    "editable": true
   },
   "outputs": [],
   "source": [
    "import pandas as pd\n",
    "import numpy as np\n",
    "from sklearn.model_selection import train_test_split\n",
    "from sklearn import preprocessing\n",
    "from sklearn.feature_extraction.text import TfidfVectorizer\n",
    "import math\n",
    "import glob, re, os\n",
    "import tflearn\n",
    "from tflearn.data_utils import to_categorical, pad_sequences"
   ]
  },
  {
   "cell_type": "code",
   "execution_count": 50,
   "metadata": {
    "collapsed": true,
    "deletable": true,
    "editable": true
   },
   "outputs": [],
   "source": [
    "data_dir = 'opensubtitles-parser/inOneFolder/'"
   ]
  },
  {
   "cell_type": "markdown",
   "metadata": {
    "deletable": true,
    "editable": true
   },
   "source": [
    "## Before starting"
   ]
  },
  {
   "cell_type": "code",
   "execution_count": null,
   "metadata": {
    "collapsed": true,
    "deletable": true,
    "editable": true
   },
   "outputs": [],
   "source": [
    "#To delete redundant part of xml file names\n",
    "for filename in glob.glob(data_dir + '*.xml'):\n",
    "    new_name = re.sub('[0-9]*_[0-9]*_[0-9]*_([^.]*).xml', r'\\1.xml', filename)\n",
    "    os.rename(filename, new_name)"
   ]
  },
  {
   "cell_type": "code",
   "execution_count": 2,
   "metadata": {
    "collapsed": true,
    "deletable": true,
    "editable": true
   },
   "outputs": [],
   "source": [
    "# converter.py\n",
    "import xml.etree.ElementTree as ET\n",
    "\n",
    "def convert_to_text(in_file):\n",
    "    \"\"\"\n",
    "    a function that gets subtitle xml file and extract it's text\n",
    "    and save it to a file with same name but '.txt' extension\n",
    "    \"\"\"\n",
    "\n",
    "    # read xml file\n",
    "    tree = ET.parse(in_file)\n",
    "    root = tree.getroot()\n",
    "\n",
    "    file_name = in_file.split('.')[0] #extract file name without .xml\n",
    "\n",
    "    text = ''\n",
    "    for parag in root.iter('s'):  # read each paragraph\n",
    "        for word in parag.iter('w'): # read each word\n",
    "            text += word.text + ' '\n",
    "        text = text.rstrip()\n",
    "        text += '\\n'\n",
    "        \n",
    "    try:\n",
    "        f = open(file_name + '.txt', 'w')\n",
    "        f.write(text.encode('utf8'))   # to avoid encoding error\n",
    "    except Exception as e:\n",
    "        print 'there is an error in file: ', in_file\n",
    "        print e\n",
    "    else:\n",
    "        f.close()"
   ]
  },
  {
   "cell_type": "code",
   "execution_count": 13,
   "metadata": {
    "collapsed": false,
    "deletable": true,
    "editable": true,
    "scrolled": true
   },
   "outputs": [],
   "source": [
    "def readSubtitles():\n",
    "    for f in os.listdir(data_dir):\n",
    "        if f.endswith('.xml'):\n",
    "            convert_to_text(data_dir + f)"
   ]
  },
  {
   "cell_type": "code",
   "execution_count": 17,
   "metadata": {
    "collapsed": true,
    "deletable": true,
    "editable": true
   },
   "outputs": [],
   "source": [
    "readSubtitles()"
   ]
  },
  {
   "cell_type": "markdown",
   "metadata": {
    "deletable": true,
    "editable": true
   },
   "source": [
    "## Data Preparation"
   ]
  },
  {
   "cell_type": "code",
   "execution_count": 3,
   "metadata": {
    "collapsed": false,
    "deletable": true,
    "editable": true
   },
   "outputs": [],
   "source": [
    "# File Names List\n",
    "fileNames = []\n",
    "for fname in os.listdir(data_dir):\n",
    "    fileNames.append(fname.replace(\"_\", \" \").replace(\".xml\", \"\"))"
   ]
  },
  {
   "cell_type": "code",
   "execution_count": 4,
   "metadata": {
    "collapsed": true,
    "deletable": true,
    "editable": true
   },
   "outputs": [],
   "source": [
    "def modifier(s):\n",
    "    s = re.sub('([^\\(]*)\\(.*', r'\\1', s.lower()).rstrip()\n",
    "    # s = s[1:] if s.startswith(\"\\\"\") else s\n",
    "    s = \"the \" + s[:s.rfind(\", the\")] if \", the\" in s else s\n",
    "    s = \"an \" + s[:s.rfind(\", an\")] if \", an\" in s else s\n",
    "    s = \"a \" + s[:s.rfind(\", a\")] if \", a\" in s else s\n",
    "    return s"
   ]
  },
  {
   "cell_type": "code",
   "execution_count": 5,
   "metadata": {
    "collapsed": true,
    "deletable": true,
    "editable": true
   },
   "outputs": [],
   "source": [
    "def findFileName(row):\n",
    "    return row['modifiedtitle'].replace(' ', '_') + '.xml' if row['modifiedtitle'] in fileNames else np.nan"
   ]
  },
  {
   "cell_type": "code",
   "execution_count": 47,
   "metadata": {
    "collapsed": false,
    "deletable": true,
    "editable": true
   },
   "outputs": [],
   "source": [
    "def findSubtitles(row):\n",
    "    if (pd.isnull(row['filename']) == False) :\n",
    "        f = open(data_dir + row['filename'].replace('.xml', '.txt'), 'r')\n",
    "        return f.read()\n",
    "    return np.nan"
   ]
  },
  {
   "cell_type": "code",
   "execution_count": 7,
   "metadata": {
    "collapsed": false,
    "deletable": true,
    "editable": true
   },
   "outputs": [],
   "source": [
    "def selectGenre(row):\n",
    "    return row['genres'].split('|')[0]"
   ]
  },
  {
   "cell_type": "code",
   "execution_count": 8,
   "metadata": {
    "collapsed": false,
    "deletable": true,
    "editable": true,
    "scrolled": true
   },
   "outputs": [
    {
     "data": {
      "text/html": [
       "<div>\n",
       "<table border=\"1\" class=\"dataframe\">\n",
       "  <thead>\n",
       "    <tr style=\"text-align: right;\">\n",
       "      <th></th>\n",
       "      <th>movieId</th>\n",
       "      <th>title</th>\n",
       "      <th>genres</th>\n",
       "    </tr>\n",
       "  </thead>\n",
       "  <tbody>\n",
       "    <tr>\n",
       "      <th>0</th>\n",
       "      <td>1</td>\n",
       "      <td>Toy Story (1995)</td>\n",
       "      <td>Adventure|Animation|Children|Comedy|Fantasy</td>\n",
       "    </tr>\n",
       "    <tr>\n",
       "      <th>1</th>\n",
       "      <td>2</td>\n",
       "      <td>Jumanji (1995)</td>\n",
       "      <td>Adventure|Children|Fantasy</td>\n",
       "    </tr>\n",
       "    <tr>\n",
       "      <th>2</th>\n",
       "      <td>3</td>\n",
       "      <td>Grumpier Old Men (1995)</td>\n",
       "      <td>Comedy|Romance</td>\n",
       "    </tr>\n",
       "    <tr>\n",
       "      <th>3</th>\n",
       "      <td>4</td>\n",
       "      <td>Waiting to Exhale (1995)</td>\n",
       "      <td>Comedy|Drama|Romance</td>\n",
       "    </tr>\n",
       "    <tr>\n",
       "      <th>4</th>\n",
       "      <td>5</td>\n",
       "      <td>Father of the Bride Part II (1995)</td>\n",
       "      <td>Comedy</td>\n",
       "    </tr>\n",
       "  </tbody>\n",
       "</table>\n",
       "</div>"
      ],
      "text/plain": [
       "   movieId                               title  \\\n",
       "0        1                    Toy Story (1995)   \n",
       "1        2                      Jumanji (1995)   \n",
       "2        3             Grumpier Old Men (1995)   \n",
       "3        4            Waiting to Exhale (1995)   \n",
       "4        5  Father of the Bride Part II (1995)   \n",
       "\n",
       "                                        genres  \n",
       "0  Adventure|Animation|Children|Comedy|Fantasy  \n",
       "1                   Adventure|Children|Fantasy  \n",
       "2                               Comedy|Romance  \n",
       "3                         Comedy|Drama|Romance  \n",
       "4                                       Comedy  "
      ]
     },
     "execution_count": 8,
     "metadata": {},
     "output_type": "execute_result"
    }
   ],
   "source": [
    "dfmovies = pd.read_csv(\"./ml-20m/movies.csv\")\n",
    "dfmovies.head()"
   ]
  },
  {
   "cell_type": "code",
   "execution_count": 10,
   "metadata": {
    "collapsed": false,
    "deletable": true,
    "editable": true
   },
   "outputs": [
    {
     "data": {
      "text/plain": [
       "27278"
      ]
     },
     "execution_count": 10,
     "metadata": {},
     "output_type": "execute_result"
    }
   ],
   "source": [
    "len(dfmovies)"
   ]
  },
  {
   "cell_type": "code",
   "execution_count": 11,
   "metadata": {
    "collapsed": false,
    "deletable": true,
    "editable": true
   },
   "outputs": [
    {
     "data": {
      "text/html": [
       "<div>\n",
       "<table border=\"1\" class=\"dataframe\">\n",
       "  <thead>\n",
       "    <tr style=\"text-align: right;\">\n",
       "      <th></th>\n",
       "      <th>userId</th>\n",
       "      <th>movieId</th>\n",
       "      <th>rating</th>\n",
       "      <th>timestamp</th>\n",
       "    </tr>\n",
       "  </thead>\n",
       "  <tbody>\n",
       "    <tr>\n",
       "      <th>0</th>\n",
       "      <td>1</td>\n",
       "      <td>2</td>\n",
       "      <td>3.5</td>\n",
       "      <td>1112486027</td>\n",
       "    </tr>\n",
       "    <tr>\n",
       "      <th>1</th>\n",
       "      <td>1</td>\n",
       "      <td>29</td>\n",
       "      <td>3.5</td>\n",
       "      <td>1112484676</td>\n",
       "    </tr>\n",
       "    <tr>\n",
       "      <th>2</th>\n",
       "      <td>1</td>\n",
       "      <td>32</td>\n",
       "      <td>3.5</td>\n",
       "      <td>1112484819</td>\n",
       "    </tr>\n",
       "    <tr>\n",
       "      <th>3</th>\n",
       "      <td>1</td>\n",
       "      <td>47</td>\n",
       "      <td>3.5</td>\n",
       "      <td>1112484727</td>\n",
       "    </tr>\n",
       "    <tr>\n",
       "      <th>4</th>\n",
       "      <td>1</td>\n",
       "      <td>50</td>\n",
       "      <td>3.5</td>\n",
       "      <td>1112484580</td>\n",
       "    </tr>\n",
       "  </tbody>\n",
       "</table>\n",
       "</div>"
      ],
      "text/plain": [
       "   userId  movieId  rating   timestamp\n",
       "0       1        2     3.5  1112486027\n",
       "1       1       29     3.5  1112484676\n",
       "2       1       32     3.5  1112484819\n",
       "3       1       47     3.5  1112484727\n",
       "4       1       50     3.5  1112484580"
      ]
     },
     "execution_count": 11,
     "metadata": {},
     "output_type": "execute_result"
    }
   ],
   "source": [
    "dfratings = pd.read_csv(\"./ml-20m/ratings.csv\")\n",
    "dfratings.head()"
   ]
  },
  {
   "cell_type": "code",
   "execution_count": 12,
   "metadata": {
    "collapsed": false,
    "deletable": true,
    "editable": true
   },
   "outputs": [
    {
     "data": {
      "text/plain": [
       "20000263"
      ]
     },
     "execution_count": 12,
     "metadata": {},
     "output_type": "execute_result"
    }
   ],
   "source": [
    "len(dfratings)"
   ]
  },
  {
   "cell_type": "code",
   "execution_count": 13,
   "metadata": {
    "collapsed": true,
    "deletable": true,
    "editable": true
   },
   "outputs": [],
   "source": [
    "dfratedmovies = pd.merge(dfmovies, dfratings, on='movieId')"
   ]
  },
  {
   "cell_type": "code",
   "execution_count": 14,
   "metadata": {
    "collapsed": false,
    "deletable": true,
    "editable": true
   },
   "outputs": [
    {
     "data": {
      "text/html": [
       "<div>\n",
       "<table border=\"1\" class=\"dataframe\">\n",
       "  <thead>\n",
       "    <tr style=\"text-align: right;\">\n",
       "      <th></th>\n",
       "      <th>movieId</th>\n",
       "      <th>title</th>\n",
       "      <th>genres</th>\n",
       "      <th>userId</th>\n",
       "      <th>rating</th>\n",
       "      <th>timestamp</th>\n",
       "    </tr>\n",
       "  </thead>\n",
       "  <tbody>\n",
       "    <tr>\n",
       "      <th>0</th>\n",
       "      <td>1</td>\n",
       "      <td>Toy Story (1995)</td>\n",
       "      <td>Adventure|Animation|Children|Comedy|Fantasy</td>\n",
       "      <td>3</td>\n",
       "      <td>4.0</td>\n",
       "      <td>944919407</td>\n",
       "    </tr>\n",
       "    <tr>\n",
       "      <th>1</th>\n",
       "      <td>1</td>\n",
       "      <td>Toy Story (1995)</td>\n",
       "      <td>Adventure|Animation|Children|Comedy|Fantasy</td>\n",
       "      <td>6</td>\n",
       "      <td>5.0</td>\n",
       "      <td>858275452</td>\n",
       "    </tr>\n",
       "    <tr>\n",
       "      <th>2</th>\n",
       "      <td>1</td>\n",
       "      <td>Toy Story (1995)</td>\n",
       "      <td>Adventure|Animation|Children|Comedy|Fantasy</td>\n",
       "      <td>8</td>\n",
       "      <td>4.0</td>\n",
       "      <td>833981871</td>\n",
       "    </tr>\n",
       "    <tr>\n",
       "      <th>3</th>\n",
       "      <td>1</td>\n",
       "      <td>Toy Story (1995)</td>\n",
       "      <td>Adventure|Animation|Children|Comedy|Fantasy</td>\n",
       "      <td>10</td>\n",
       "      <td>4.0</td>\n",
       "      <td>943497887</td>\n",
       "    </tr>\n",
       "    <tr>\n",
       "      <th>4</th>\n",
       "      <td>1</td>\n",
       "      <td>Toy Story (1995)</td>\n",
       "      <td>Adventure|Animation|Children|Comedy|Fantasy</td>\n",
       "      <td>11</td>\n",
       "      <td>4.5</td>\n",
       "      <td>1230858821</td>\n",
       "    </tr>\n",
       "  </tbody>\n",
       "</table>\n",
       "</div>"
      ],
      "text/plain": [
       "   movieId             title                                       genres  \\\n",
       "0        1  Toy Story (1995)  Adventure|Animation|Children|Comedy|Fantasy   \n",
       "1        1  Toy Story (1995)  Adventure|Animation|Children|Comedy|Fantasy   \n",
       "2        1  Toy Story (1995)  Adventure|Animation|Children|Comedy|Fantasy   \n",
       "3        1  Toy Story (1995)  Adventure|Animation|Children|Comedy|Fantasy   \n",
       "4        1  Toy Story (1995)  Adventure|Animation|Children|Comedy|Fantasy   \n",
       "\n",
       "   userId  rating   timestamp  \n",
       "0       3     4.0   944919407  \n",
       "1       6     5.0   858275452  \n",
       "2       8     4.0   833981871  \n",
       "3      10     4.0   943497887  \n",
       "4      11     4.5  1230858821  "
      ]
     },
     "execution_count": 14,
     "metadata": {},
     "output_type": "execute_result"
    }
   ],
   "source": [
    "dfratedmovies.head()"
   ]
  },
  {
   "cell_type": "code",
   "execution_count": 15,
   "metadata": {
    "collapsed": false,
    "deletable": true,
    "editable": true
   },
   "outputs": [
    {
     "data": {
      "text/plain": [
       "20000263"
      ]
     },
     "execution_count": 15,
     "metadata": {},
     "output_type": "execute_result"
    }
   ],
   "source": [
    "len(dfratedmovies)"
   ]
  },
  {
   "cell_type": "code",
   "execution_count": 44,
   "metadata": {
    "collapsed": true,
    "deletable": true,
    "editable": true
   },
   "outputs": [],
   "source": [
    "dfratedmovies['filename'] = np.nan\n",
    "dfratedmovies['modifiedtitle'] = np.nan"
   ]
  },
  {
   "cell_type": "code",
   "execution_count": 45,
   "metadata": {
    "collapsed": false,
    "deletable": true,
    "editable": true,
    "scrolled": true
   },
   "outputs": [
    {
     "data": {
      "text/html": [
       "<div>\n",
       "<table border=\"1\" class=\"dataframe\">\n",
       "  <thead>\n",
       "    <tr style=\"text-align: right;\">\n",
       "      <th></th>\n",
       "      <th>Unnamed: 0</th>\n",
       "      <th>movieId</th>\n",
       "      <th>title</th>\n",
       "      <th>genres</th>\n",
       "      <th>userId</th>\n",
       "      <th>rating</th>\n",
       "      <th>timestamp</th>\n",
       "      <th>filename</th>\n",
       "      <th>modifiedtitle</th>\n",
       "    </tr>\n",
       "  </thead>\n",
       "  <tbody>\n",
       "    <tr>\n",
       "      <th>0</th>\n",
       "      <td>0</td>\n",
       "      <td>1</td>\n",
       "      <td>Toy Story (1995)</td>\n",
       "      <td>Adventure|Animation|Children|Comedy|Fantasy</td>\n",
       "      <td>3</td>\n",
       "      <td>4.0</td>\n",
       "      <td>944919407</td>\n",
       "      <td>NaN</td>\n",
       "      <td>NaN</td>\n",
       "    </tr>\n",
       "    <tr>\n",
       "      <th>1</th>\n",
       "      <td>1</td>\n",
       "      <td>1</td>\n",
       "      <td>Toy Story (1995)</td>\n",
       "      <td>Adventure|Animation|Children|Comedy|Fantasy</td>\n",
       "      <td>6</td>\n",
       "      <td>5.0</td>\n",
       "      <td>858275452</td>\n",
       "      <td>NaN</td>\n",
       "      <td>NaN</td>\n",
       "    </tr>\n",
       "    <tr>\n",
       "      <th>2</th>\n",
       "      <td>2</td>\n",
       "      <td>1</td>\n",
       "      <td>Toy Story (1995)</td>\n",
       "      <td>Adventure|Animation|Children|Comedy|Fantasy</td>\n",
       "      <td>8</td>\n",
       "      <td>4.0</td>\n",
       "      <td>833981871</td>\n",
       "      <td>NaN</td>\n",
       "      <td>NaN</td>\n",
       "    </tr>\n",
       "    <tr>\n",
       "      <th>3</th>\n",
       "      <td>3</td>\n",
       "      <td>1</td>\n",
       "      <td>Toy Story (1995)</td>\n",
       "      <td>Adventure|Animation|Children|Comedy|Fantasy</td>\n",
       "      <td>10</td>\n",
       "      <td>4.0</td>\n",
       "      <td>943497887</td>\n",
       "      <td>NaN</td>\n",
       "      <td>NaN</td>\n",
       "    </tr>\n",
       "    <tr>\n",
       "      <th>4</th>\n",
       "      <td>4</td>\n",
       "      <td>1</td>\n",
       "      <td>Toy Story (1995)</td>\n",
       "      <td>Adventure|Animation|Children|Comedy|Fantasy</td>\n",
       "      <td>11</td>\n",
       "      <td>4.5</td>\n",
       "      <td>1230858821</td>\n",
       "      <td>NaN</td>\n",
       "      <td>NaN</td>\n",
       "    </tr>\n",
       "  </tbody>\n",
       "</table>\n",
       "</div>"
      ],
      "text/plain": [
       "   Unnamed: 0  movieId             title  \\\n",
       "0           0        1  Toy Story (1995)   \n",
       "1           1        1  Toy Story (1995)   \n",
       "2           2        1  Toy Story (1995)   \n",
       "3           3        1  Toy Story (1995)   \n",
       "4           4        1  Toy Story (1995)   \n",
       "\n",
       "                                        genres  userId  rating   timestamp  \\\n",
       "0  Adventure|Animation|Children|Comedy|Fantasy       3     4.0   944919407   \n",
       "1  Adventure|Animation|Children|Comedy|Fantasy       6     5.0   858275452   \n",
       "2  Adventure|Animation|Children|Comedy|Fantasy       8     4.0   833981871   \n",
       "3  Adventure|Animation|Children|Comedy|Fantasy      10     4.0   943497887   \n",
       "4  Adventure|Animation|Children|Comedy|Fantasy      11     4.5  1230858821   \n",
       "\n",
       "   filename  modifiedtitle  \n",
       "0       NaN            NaN  \n",
       "1       NaN            NaN  \n",
       "2       NaN            NaN  \n",
       "3       NaN            NaN  \n",
       "4       NaN            NaN  "
      ]
     },
     "execution_count": 45,
     "metadata": {},
     "output_type": "execute_result"
    }
   ],
   "source": [
    "dfratedmovies.head()"
   ]
  },
  {
   "cell_type": "code",
   "execution_count": 46,
   "metadata": {
    "collapsed": false,
    "deletable": true,
    "editable": true
   },
   "outputs": [],
   "source": [
    "# print set(dfratedmovies['title'])"
   ]
  },
  {
   "cell_type": "code",
   "execution_count": 47,
   "metadata": {
    "collapsed": true,
    "deletable": true,
    "editable": true
   },
   "outputs": [],
   "source": [
    "# To fill modifiedtitle column in order to use it to easly find relevant subtitle files\n",
    "dfratedmovies['modifiedtitle'] = dfratedmovies['title'].apply(modifier)"
   ]
  },
  {
   "cell_type": "code",
   "execution_count": 48,
   "metadata": {
    "collapsed": false,
    "deletable": true,
    "editable": true,
    "scrolled": false
   },
   "outputs": [],
   "source": [
    "# To fill filename column with appropriate file names\n",
    "dfratedmovies['filename'] = dfratedmovies.apply(findFileName, axis=1)"
   ]
  },
  {
   "cell_type": "code",
   "execution_count": 111,
   "metadata": {
    "collapsed": true,
    "deletable": true,
    "editable": true
   },
   "outputs": [],
   "source": [
    "# Writing data frame into csv file\n",
    "dfratedmovies.to_csv('ratedmovies.csv')"
   ]
  },
  {
   "cell_type": "code",
   "execution_count": 5,
   "metadata": {
    "collapsed": false,
    "deletable": true,
    "editable": true
   },
   "outputs": [
    {
     "data": {
      "text/html": [
       "<div>\n",
       "<table border=\"1\" class=\"dataframe\">\n",
       "  <thead>\n",
       "    <tr style=\"text-align: right;\">\n",
       "      <th></th>\n",
       "      <th>movieId</th>\n",
       "      <th>title</th>\n",
       "      <th>genres</th>\n",
       "      <th>userId</th>\n",
       "      <th>rating</th>\n",
       "      <th>timestamp</th>\n",
       "      <th>filename</th>\n",
       "      <th>modifiedtitle</th>\n",
       "    </tr>\n",
       "  </thead>\n",
       "  <tbody>\n",
       "    <tr>\n",
       "      <th>0</th>\n",
       "      <td>1</td>\n",
       "      <td>Toy Story (1995)</td>\n",
       "      <td>Adventure|Animation|Children|Comedy|Fantasy</td>\n",
       "      <td>3</td>\n",
       "      <td>4.0</td>\n",
       "      <td>944919407</td>\n",
       "      <td>NaN</td>\n",
       "      <td>toy story</td>\n",
       "    </tr>\n",
       "    <tr>\n",
       "      <th>1</th>\n",
       "      <td>1</td>\n",
       "      <td>Toy Story (1995)</td>\n",
       "      <td>Adventure|Animation|Children|Comedy|Fantasy</td>\n",
       "      <td>6</td>\n",
       "      <td>5.0</td>\n",
       "      <td>858275452</td>\n",
       "      <td>NaN</td>\n",
       "      <td>toy story</td>\n",
       "    </tr>\n",
       "    <tr>\n",
       "      <th>2</th>\n",
       "      <td>1</td>\n",
       "      <td>Toy Story (1995)</td>\n",
       "      <td>Adventure|Animation|Children|Comedy|Fantasy</td>\n",
       "      <td>8</td>\n",
       "      <td>4.0</td>\n",
       "      <td>833981871</td>\n",
       "      <td>NaN</td>\n",
       "      <td>toy story</td>\n",
       "    </tr>\n",
       "    <tr>\n",
       "      <th>3</th>\n",
       "      <td>1</td>\n",
       "      <td>Toy Story (1995)</td>\n",
       "      <td>Adventure|Animation|Children|Comedy|Fantasy</td>\n",
       "      <td>10</td>\n",
       "      <td>4.0</td>\n",
       "      <td>943497887</td>\n",
       "      <td>NaN</td>\n",
       "      <td>toy story</td>\n",
       "    </tr>\n",
       "    <tr>\n",
       "      <th>4</th>\n",
       "      <td>1</td>\n",
       "      <td>Toy Story (1995)</td>\n",
       "      <td>Adventure|Animation|Children|Comedy|Fantasy</td>\n",
       "      <td>11</td>\n",
       "      <td>4.5</td>\n",
       "      <td>1230858821</td>\n",
       "      <td>NaN</td>\n",
       "      <td>toy story</td>\n",
       "    </tr>\n",
       "  </tbody>\n",
       "</table>\n",
       "</div>"
      ],
      "text/plain": [
       "   movieId             title                                       genres  \\\n",
       "0        1  Toy Story (1995)  Adventure|Animation|Children|Comedy|Fantasy   \n",
       "1        1  Toy Story (1995)  Adventure|Animation|Children|Comedy|Fantasy   \n",
       "2        1  Toy Story (1995)  Adventure|Animation|Children|Comedy|Fantasy   \n",
       "3        1  Toy Story (1995)  Adventure|Animation|Children|Comedy|Fantasy   \n",
       "4        1  Toy Story (1995)  Adventure|Animation|Children|Comedy|Fantasy   \n",
       "\n",
       "   userId  rating   timestamp filename modifiedtitle  \n",
       "0       3     4.0   944919407      NaN     toy story  \n",
       "1       6     5.0   858275452      NaN     toy story  \n",
       "2       8     4.0   833981871      NaN     toy story  \n",
       "3      10     4.0   943497887      NaN     toy story  \n",
       "4      11     4.5  1230858821      NaN     toy story  "
      ]
     },
     "execution_count": 5,
     "metadata": {},
     "output_type": "execute_result"
    }
   ],
   "source": [
    "# dfratedmovies.drop('Unnamed: 0', axis=1, inplace=True)\n",
    "dfratedmovies.head()"
   ]
  },
  {
   "cell_type": "markdown",
   "metadata": {
    "deletable": true,
    "editable": true
   },
   "source": [
    "## Data Reading"
   ]
  },
  {
   "cell_type": "code",
   "execution_count": 40,
   "metadata": {
    "collapsed": false,
    "deletable": true,
    "editable": true
   },
   "outputs": [
    {
     "name": "stderr",
     "output_type": "stream",
     "text": [
      "/usr/local/lib/python2.7/dist-packages/IPython/core/interactiveshell.py:2717: DtypeWarning: Columns (7) have mixed types. Specify dtype option on import or set low_memory=False.\n",
      "  interactivity=interactivity, compiler=compiler, result=result)\n"
     ]
    }
   ],
   "source": [
    "#either call read_csv with index_col=0 odor call to_csv with index=False\n",
    "dfratedmovies = pd.read_csv('./ratedmovies.csv', index_col=0)"
   ]
  },
  {
   "cell_type": "code",
   "execution_count": 41,
   "metadata": {
    "collapsed": false,
    "deletable": true,
    "editable": true
   },
   "outputs": [
    {
     "name": "stdout",
     "output_type": "stream",
     "text": [
      "(6116353, 8)\n",
      "(13883910, 8)\n"
     ]
    }
   ],
   "source": [
    "print dfratedmovies[pd.isnull(dfratedmovies['filename']) == False].shape\n",
    "print dfratedmovies[pd.isnull(dfratedmovies['filename']) == True].shape"
   ]
  },
  {
   "cell_type": "code",
   "execution_count": 42,
   "metadata": {
    "collapsed": false,
    "deletable": true,
    "editable": true
   },
   "outputs": [
    {
     "name": "stdout",
     "output_type": "stream",
     "text": [
      "1211\n",
      "1019\n"
     ]
    }
   ],
   "source": [
    "print len(dfratedmovies[pd.isnull(dfratedmovies['filename']) == False]['movieId'].unique())\n",
    "print len(dfratedmovies[pd.isnull(dfratedmovies['filename']) == False]['filename'].unique())"
   ]
  },
  {
   "cell_type": "code",
   "execution_count": 45,
   "metadata": {
    "collapsed": false,
    "deletable": true,
    "editable": true
   },
   "outputs": [],
   "source": [
    "df = dfratedmovies[pd.isnull(dfratedmovies['filename']) == False][['movieId', 'title', 'genres', 'filename',]].copy()\n",
    "# df['genres'] = df.apply(selectGenre, axis=1)\n",
    "df = df.drop_duplicates()\n",
    "df['subtitles'] = np.nan"
   ]
  },
  {
   "cell_type": "code",
   "execution_count": 51,
   "metadata": {
    "collapsed": false,
    "deletable": true,
    "editable": true
   },
   "outputs": [],
   "source": [
    "df['subtitles'] = df.apply(findSubtitles, axis=1)"
   ]
  },
  {
   "cell_type": "code",
   "execution_count": 52,
   "metadata": {
    "collapsed": false,
    "deletable": true,
    "editable": true,
    "scrolled": true
   },
   "outputs": [
    {
     "data": {
      "text/html": [
       "<div>\n",
       "<table border=\"1\" class=\"dataframe\">\n",
       "  <thead>\n",
       "    <tr style=\"text-align: right;\">\n",
       "      <th></th>\n",
       "      <th>movieId</th>\n",
       "      <th>title</th>\n",
       "      <th>genres</th>\n",
       "      <th>filename</th>\n",
       "      <th>subtitles</th>\n",
       "    </tr>\n",
       "  </thead>\n",
       "  <tbody>\n",
       "    <tr>\n",
       "      <th>49695</th>\n",
       "      <td>2</td>\n",
       "      <td>Jumanji (1995)</td>\n",
       "      <td>Adventure|Children|Fantasy</td>\n",
       "      <td>jumanji.xml</td>\n",
       "      <td>It' s just a pack of wolves .\\nCome on , we' r...</td>\n",
       "    </tr>\n",
       "    <tr>\n",
       "      <th>99590</th>\n",
       "      <td>6</td>\n",
       "      <td>Heat (1995)</td>\n",
       "      <td>Action|Crime|Thriller</td>\n",
       "      <td>heat.xml</td>\n",
       "      <td>Check , charge or cash ?\\nCash .\\nMake it out ...</td>\n",
       "    </tr>\n",
       "    <tr>\n",
       "      <th>170830</th>\n",
       "      <td>11</td>\n",
       "      <td>American President, The (1995)</td>\n",
       "      <td>Comedy|Drama|Romance</td>\n",
       "      <td>the_american_president.xml</td>\n",
       "      <td>Liberty' s moving .\\nThe 10 : 15 event' s been...</td>\n",
       "    </tr>\n",
       "    <tr>\n",
       "      <th>203230</th>\n",
       "      <td>16</td>\n",
       "      <td>Casino (1995)</td>\n",
       "      <td>Crime|Drama</td>\n",
       "      <td>casino.xml</td>\n",
       "      <td>[ Man Narrating ]\\nWhen you love someone , you...</td>\n",
       "    </tr>\n",
       "    <tr>\n",
       "      <th>241291</th>\n",
       "      <td>18</td>\n",
       "      <td>Four Rooms (1995)</td>\n",
       "      <td>Comedy</td>\n",
       "      <td>four_rooms.xml</td>\n",
       "      <td>[ Children ]\\nShould auld acquaintance be forg...</td>\n",
       "    </tr>\n",
       "  </tbody>\n",
       "</table>\n",
       "</div>"
      ],
      "text/plain": [
       "        movieId                           title                      genres  \\\n",
       "49695         2                  Jumanji (1995)  Adventure|Children|Fantasy   \n",
       "99590         6                     Heat (1995)       Action|Crime|Thriller   \n",
       "170830       11  American President, The (1995)        Comedy|Drama|Romance   \n",
       "203230       16                   Casino (1995)                 Crime|Drama   \n",
       "241291       18               Four Rooms (1995)                      Comedy   \n",
       "\n",
       "                          filename  \\\n",
       "49695                  jumanji.xml   \n",
       "99590                     heat.xml   \n",
       "170830  the_american_president.xml   \n",
       "203230                  casino.xml   \n",
       "241291              four_rooms.xml   \n",
       "\n",
       "                                                subtitles  \n",
       "49695   It' s just a pack of wolves .\\nCome on , we' r...  \n",
       "99590   Check , charge or cash ?\\nCash .\\nMake it out ...  \n",
       "170830  Liberty' s moving .\\nThe 10 : 15 event' s been...  \n",
       "203230  [ Man Narrating ]\\nWhen you love someone , you...  \n",
       "241291  [ Children ]\\nShould auld acquaintance be forg...  "
      ]
     },
     "execution_count": 52,
     "metadata": {},
     "output_type": "execute_result"
    }
   ],
   "source": [
    "df.head()"
   ]
  },
  {
   "cell_type": "code",
   "execution_count": 53,
   "metadata": {
    "collapsed": true,
    "deletable": true,
    "editable": true
   },
   "outputs": [],
   "source": [
    "df.to_pickle('genreClassification_multiclass.pkl')"
   ]
  },
  {
   "cell_type": "markdown",
   "metadata": {
    "collapsed": true,
    "deletable": true,
    "editable": true
   },
   "source": [
    "# Genre Classification"
   ]
  },
  {
   "cell_type": "code",
   "execution_count": 2,
   "metadata": {
    "collapsed": false,
    "deletable": true,
    "editable": true
   },
   "outputs": [],
   "source": [
    "df = pd.read_pickle('genreClassification.pkl')"
   ]
  },
  {
   "cell_type": "code",
   "execution_count": 3,
   "metadata": {
    "collapsed": false,
    "deletable": true,
    "editable": true
   },
   "outputs": [],
   "source": [
    "X = df.drop('genres', axis=1)"
   ]
  },
  {
   "cell_type": "code",
   "execution_count": 4,
   "metadata": {
    "collapsed": false,
    "deletable": true,
    "editable": true
   },
   "outputs": [],
   "source": [
    "y = df['genres']"
   ]
  },
  {
   "cell_type": "code",
   "execution_count": 5,
   "metadata": {
    "collapsed": false,
    "deletable": true,
    "editable": true
   },
   "outputs": [],
   "source": [
    "# Data splitting\n",
    "X_train, X_test, y_train, y_test = train_test_split(X, y, test_size=0.33, random_state=42)"
   ]
  },
  {
   "cell_type": "code",
   "execution_count": 6,
   "metadata": {
    "collapsed": false,
    "deletable": true,
    "editable": true
   },
   "outputs": [
    {
     "name": "stdout",
     "output_type": "stream",
     "text": [
      "(811, 4)\n",
      "(811,)\n",
      "(400, 4)\n",
      "(400,)\n"
     ]
    }
   ],
   "source": [
    "print X_train.shape\n",
    "print y_train.shape\n",
    "print X_test.shape\n",
    "print y_test.shape"
   ]
  },
  {
   "cell_type": "code",
   "execution_count": 7,
   "metadata": {
    "collapsed": false,
    "deletable": true,
    "editable": true
   },
   "outputs": [
    {
     "name": "stdout",
     "output_type": "stream",
     "text": [
      "You wouldn' t have a match ... by any chance , would you ?\n",
      "Oh , oh , oh !\n",
      "The airgot to it .\n",
      "The air got to it !\n",
      "Come on , come on .\n",
      "Come on .\n",
      "[ Gasping ]\n",
      "I did it .\n",
      "I did it .\n",
      "Fire !\n",
      "Thereyougo !\n",
      "Light it up !\n",
      "Come on !\n",
      "# The time to hesitate is through #\n",
      "Ouch !\n",
      "[ Laughing ]\n",
      "Ouch !\n",
      "# No time to wallow in the mire #\n",
      "# Try now , we can only lose #\n",
      "# ' Cause girl we couldn' t get much higher #\n",
      "# Come on , baby light my fire ##\n",
      "Here you go !\n",
      "Here you go !\n",
      "It' s a signal fire !\n",
      "And it spells out S. O. S !\n",
      "Whoa !\n",
      "It' s a meteor shower !\n",
      "Fireflies !\n",
      "Go !\n",
      "Run !\n",
      "You' re free !\n",
      "You' re free !\n",
      "Ouch !\n",
      "Ouch !\n",
      "Yeah !\n",
      "Yes !\n",
      "Look what I have created !\n",
      "I have made fire !\n",
      "I ... have made fire !\n",
      "Mmm !\n",
      "You gotta love crab .\n",
      "I n the nick oftime too .\n",
      "I couldn' t take much more ofthose coconuts .\n",
      "Coconut milk' s a natural laxative .\n",
      "Things that Gilligan never told us .\n",
      "Oh .\n",
      "Pretty well- made fire , huh , Wilson ?\n",
      "[ Thunderclap ]\n",
      "So ...\n",
      "Wilson .\n",
      "We were en route ... from Memphis for 1 1 and a half hours .\n",
      "About 475 miles an hour .\n",
      "So they think that we are right here .\n",
      "But ... we went out of radio contact ... and flew around that storm for about an hour .\n",
      "So that' s a distance ofwhat , 400 miles ?\n",
      "Four hundred miles squared .\n",
      "That' s 1 60, 000 ... times pi -- 3 . 1 4 .\n",
      "[ Mumbling ]\n",
      "Five hundred and two thousand , four --\n",
      "That' s a search area of 500, 000 square miles .\n",
      "That' s twice the size ofTexas .\n",
      "They may never find us .\n",
      "[ Thunderclaps ]\n",
      "[ Groaning ]\n",
      "This tooth isjustkillingme .\n",
      "Itstartedoutjusthurting when lbit down , butnowitjusthurts all the time .\n",
      "All the time .\n",
      "It' s- It' s agoodthing there ' s notmuch to eataroundhere , because I don' t think I could chewit .\n",
      "Justkeepsucking on all that coconutandall that crab .\n",
      "Andjust think ,\n",
      "I usedto avoid going to the dentist ...\n",
      "Iike theplague .\n",
      "Iputit offevery single chance lgot .\n",
      "Butnow , oh , what I wouldn' tgive ... to have a- a dentist righthere in this cave .\n",
      "[ Groans ]\n",
      "I n fact , I wish you were a dentist .\n",
      "Yeah .\n",
      "Dr. Wilson .\n",
      "You wanna hear something funny ?\n",
      "Back home in Memphis , my dentist' s name is Dr. James Spaulding .\n",
      "She' s much prettier in real life .\n",
      "[ Groaning ]\n",
      "[ Whimpering ]\n",
      "[ Yells ]\n",
      "[ Thunderclaps ]\n",
      "[ Clattering ]\n",
      "[ Clattering Continues ]\n",
      "Shut up !\n",
      "[ Clattering Continues ]\n",
      "\" Bakersfield \" ?\n",
      "Bakersfield !\n",
      "This could work .\n",
      "[ Softly ]\n",
      "This could work .\n",
      "Twenty- two -- Forty- four lashings .\n",
      "Forty- four lashings .\n",
      "So --\n",
      "We have to make rope again .\n",
      "Wilson , we' re gonna have to make a hell ofa lot of rope .\n",
      "Eight lashings ofthese structurals .\n",
      "That' s 24 apiece .\n",
      "That' il be 1 00 -- 1 60 .\n",
      "Here we are today .\n",
      "That gives us another month and a half until we' re into March and April , which is our best chances for the high tides and the offshore breezes .\n",
      "We need -- We need 424 feet ... ofgood rope , plus another 50 feet , say , for miscellaneous .\n",
      "Round that offto 475 feet ofgood rope .\n",
      "Now , ifwe average 1 5 feet a day --\n",
      "Plus , we have to build it , we have to stock it , we have to launch it .\n",
      "That' s gonna be tight .\n",
      "That is not much time .\n",
      "But we --\n",
      "We live and we die by time , don' t we ?\n",
      "Now , let' s not commit the sin ofturning our back on time .\n",
      "[ Laughs ]\n",
      "I know .\n",
      "I know .\n",
      "This is it .\n",
      "That' s all that' s left .\n",
      "I checked over the whole island , and that is all that' s left .\n",
      "So we' re gonna be short .\n",
      "Short .\n",
      "We' il just have to make some more out ofthe videotape .\n",
      "Yes .\n",
      "No , we have time .\n",
      "We do .\n",
      "We have time .\n",
      "Look !\n",
      "The wind' s still blowing in from the west .\n",
      "I know !\n",
      "Yeah , I know -- I know where there' s 30 feet ofextra rope !\n",
      "But -- But I' m not going back up there .\n",
      "There , there .\n",
      "There , you see ?\n",
      "Huh ?\n",
      "There .\n",
      "Are you happy ?\n",
      "Do you have to keep bringing that up ?\n",
      "Can' t you just forget it ?\n",
      "Huh ?\n",
      "You were right .\n",
      "You were right .\n",
      "It was a good thing that we did a test ,\n",
      "' cause it wasn' t gonna be just a quick little snap .\n",
      "I would have landed on the rocks .\n",
      "Broken my leg or my back or my neck .\n",
      "Bled to death .\n",
      "But it was the only option I had at the time though , okay ?\n",
      "It was what , a year ago ?\n",
      "So let' s just forget it .\n",
      "And what is your point ?\n",
      "Well ... we mightjust make it .\n",
      "Did that thought ever cross your brain ?\n",
      "Well , regardless , I would rather take my chance out there on the ocean ... than to stay here and die on this shithole island , spending the rest of my life talking to a goddamn volleyball !\n",
      "Shut you up .\n",
      "Wilson !\n",
      "Wilson !\n",
      "Wilson !\n",
      "Wilson !\n",
      "Wilson !\n",
      "Wilson .\n",
      "Wilson !\n",
      "[ Sobbing ]\n",
      "Oh , God !\n",
      "Wilson !\n",
      "Wilson !\n",
      "Oh !\n",
      "Oh !\n",
      "Never again .\n",
      "Never again , never again .\n",
      "You' re okay .\n",
      "You okay ?\n",
      "Yeah .\n",
      "Yeah , I know you .\n",
      "I know you .\n",
      "I know you .\n",
      "So , we okay ?\n",
      "Okay ?\n",
      "Okay .\n",
      "You still awake ?\n",
      "Me too .\n",
      "You scared ?\n",
      "Me too .\n",
      "[ WindHowling ]\n",
      "Okay .\n",
      "Here we go , Wilson .\n",
      "You don' t have to worry about anything .\n",
      "I' il do all the paddling .\n",
      "You just hang on .\n",
      "Not yet !\n",
      "Hold on !\n",
      "Not yet !\n",
      "Not yet !\n",
      "Not yet !\n",
      "Stand by , Wilson !\n",
      "Hold on !\n",
      "Hold on , Wilson !\n",
      "[ Laughing ]\n",
      "I think we did it !\n",
      "I think we did it !\n",
      "Wilson !\n",
      "I think we did it !\n",
      "[ Whale Calling ]\n",
      "[ Thunderclaps ]\n",
      "Oh !\n",
      "They' re gone !\n",
      "I don' t know why !\n",
      "[ Whale Spouting ]\n",
      "Where' s Wilson ?\n",
      "Where' s Wilson ?\n",
      "Wilson , where are you ?\n",
      "Wilson !\n",
      "Wilson !\n",
      "Wilson !\n",
      "Wilson !\n",
      "I' m comin ' !\n",
      "Wilson !\n",
      "Wilson !\n",
      "Wilson -- [ Gurgling ]\n",
      "Wilson !\n",
      "Wilson !\n",
      "Wilson !\n",
      "[ Gasping , Panting ]\n",
      "[ Coughs ]\n",
      "Wilson !\n",
      "Wilson !\n",
      "I' m sorry !\n",
      "I' m sorry , Wilson !\n",
      "Wilson , I' m sorry !\n",
      "I' m sorry !\n",
      "Wilson !\n",
      "[ Sobbing ]\n",
      "I can' t !\n",
      "Wilson !\n",
      "Wilson !\n",
      "[ Sobbing Loudly ]\n",
      "I' m -- I' m sorry .\n",
      "I' m sorry .\n",
      "I' m sorry .\n",
      "[ Whale Calls , Spouts ]\n",
      "[ Whale Spouts ]\n",
      "[ Horn Blows ]\n",
      "[ Alarm Blaring ]\n",
      "[ Whispers ]\n",
      "Kelly .\n",
      "Kelly .\n",
      "Kelly .\n",
      "[ Ringing ]\n",
      "Hello ?\n",
      "Oh , how are you ?\n",
      "Okay .\n",
      "Forty- five minutes .\n",
      "One Dr. Pepper .\n",
      "Two cups of ice .\n",
      "I like ice .\n",
      "Well , here' s the drill .\n",
      "Um , plane pulls in , we get off , and there' s a little ceremony right there in the hangar .\n",
      "Fred Smith will say a few words .\n",
      "All you have to do is smile and say \" thankyou . \"\n",
      "Then we' il take you over to see Kelly .\n",
      "She' s actually gonna be there , huh ?\n",
      "Well , that' s what we have arranged .\n",
      "I mean , ifyou' re sure you wanna do that .\n",
      "Oh , yeah , yeah .\n",
      "Yes .\n",
      "I don' t know what I' m gonna say to her .\n",
      "What in the world am I gonna say to her ?\n",
      "Chuck , Kelly had to let you go .\n",
      "Youknow ?\n",
      "She thoughtyou were dead .\n",
      "And we buriedyou .\n",
      "We had a funeral and a coffi n and a gravestone .\n",
      "The whole thing .\n",
      "You had a coffin ?\n",
      "What was in it ?\n",
      "Well , everybody put something in .\n",
      "You know , just a cell phone or a beeper , some pictures .\n",
      "Iputinsome Elvis CDs .\n",
      "So you had my funeral ... and then you had Mary' s funeral .\n",
      "Stan , I' m so sorry I wasn' t around when Mary died .\n",
      "I should' ve been there foryou , and I wasn' t .\n",
      "I' m so sorry .\n",
      "Fouryears ago , the FedEx family lost five ofour sons .\n",
      "That was a terrible and tragic day .\n",
      "But today , one ofthose sons ,\n",
      "Chuck Noland , has been returned to us .\n",
      "Chuck , welcome home .\n",
      "[ Applause ]\n",
      "[ Male Newscaster ]\n",
      "Justmoments ago , FredSmith welcomedhome Chuck Noland .\n",
      "- Howaboutit , Michelle ?\n",
      "- It' ssuch an incredible andamazingstory ...\n",
      "- to come back from the dead .\n",
      "- Well , it' sso amazing that Smith himselfwelcomedhim back .\n",
      "AndFredacknowledgedthat , \" While time waits forno man , we take time topause to honorone ofourown . \"\n",
      "Now , that' s an expensivepause .\n",
      "[ TVContinues ]\n",
      "I' m- I' m sorry .\n",
      "I must be in the wrong place .\n",
      "No , you' re in the right place .\n",
      "You probably don' t remember me .\n",
      "I actually did root canal on you about five years ago .\n",
      "J im Spaulding referred you .\n",
      "Oh , yeah , yeah .\n",
      "I' m Kelly' s husband .\n",
      "JerryLovett .\n",
      "Kelly wanted --\n",
      "Kelly wantedto be here --\n",
      "Look , this is veryhard foreveryone .\n",
      "I can' t even imagine howharditis foryou .\n",
      "Kelly , uh --\n",
      "She' s had it rough .\n",
      "First when she thought she lost you , and now dealing with all ofthis .\n",
      "It' s- It' s confusing .\n",
      "It' s very emotional for her .\n",
      "She' s --\n",
      "She' s ... sort oflost .\n",
      "Maybe you could just give her a little more time .\n",
      "Anyway , uh ,\n",
      "I' m sorry that --\n",
      "[ I naudible ]\n",
      "Okay , people , let' s go .\n",
      "Party' s over .\n",
      "Let' s go home .\n",
      "Let' s go home .\n",
      "[ Maynard ]\n",
      "You' re definitely gonna have togo down to the DMV .\n",
      "Okay , Maynard , let' s go .\n",
      "Chuck' s had a big day .\n",
      "- I have to briefthis man on his meetings tomorrow ...\n",
      "- I know . with the accountants and the attorneys , all right ?\n",
      "I will see you bright and early in the morning .\n",
      "- Hey , Chuck , welcome home .\n",
      "We love you .\n",
      "- Becca , I need to speak to you .\n",
      "You know , Chuck , we gotta catch up on some ofthat fishin ' , now .\n",
      "Take care .\n",
      "- Good night .\n",
      "- Good night .\n",
      "You got everything you need ?\n",
      "Okay .\n",
      "Well , ifyou need anything , just sign for it , and I' il see you in the morning .\n",
      "Get some sleep , okay ?\n",
      "We got another big day tomorrow .\n",
      "It takes a lot of paperwork to bring back a man .\n",
      "- Bring you back to life , man .\n",
      "- [ Becca ]\n",
      "Bye , Chuck .\n",
      "- Take care , now .\n",
      "- Tomorrow .\n",
      "Tomorrow we' re gonna bring you back to life .\n",
      "How long are you gonna be , man ?\n",
      "Well ...\n",
      "- how long will that buy me ?\n",
      "- About ten minutes .\n",
      "I' m awake .\n",
      "I saw your taxi drive up .\n",
      "Get in here out ofthe rain .\n",
      "I saw you down at the hub today , so I know you were down there .\n",
      "Let me get you a towel .\n",
      "They' re sleeping .\n",
      "Ifyou come in , I' il make you some coffee .\n",
      "It' s a nice house .\n",
      "Yeah , we got a nice mortgage too .\n",
      "What' s your daughter' s name ?\n",
      "Katie .\n",
      "Katie .\n",
      "- She' s a beautiful little girl .\n",
      "- She' s a handful .\n",
      "J ust let me get one thing straight here .\n",
      "We have a pro football team now , but they' re in Nashville ?\n",
      "[ Sighs , Chuckles ]\n",
      "Um , yeah .\n",
      "Oh , my God .\n",
      "Okay .\n",
      "They used to be in Houston .\n",
      "First they were the Oilers , andnow they' re the Titans .\n",
      "The Houston Oilers are the Tennessee Titans ?\n",
      "Yeah .\n",
      "But that' s not all .\n",
      "They went to the Super Bowl last year .\n",
      "- And I missed that .\n",
      "- You would' ve died .\n",
      "It was so exciting .\n",
      "They almost won by one yard .\n",
      "One lousyyard right at the end .\n",
      "I got whole milk , 2 % and nonfat .\n",
      "I don' thave anyhalf- and- half , andthat' s whatyoulike .\n",
      "That' il do fine .\n",
      "What happened to you becoming a professor ?\n",
      "You' re not Dr. Kelly Frears- Lovett ?\n",
      "When you , um --\n",
      "When your plane went down , everything just sort of got put on hold .\n",
      "I think about taking it up again , though .\n",
      "I came out here to give you this .\n",
      "Oh , my God .\n",
      "I' m sorry it doesn' t work .\n",
      "And I , uh , I kept the picture .\n",
      "It was all faded anyway .\n",
      "I want you to have it .\n",
      "I gave it to you .\n",
      "That' s a family heirloom , and it should stay in your family .\n",
      "That' s everything lhave from whenyou went down to now .\n",
      "They said they never figured out what caused the crash .\n",
      "Probably some mislabeled hazardous material caught fire .\n",
      "So here' s where that ship found you .\n",
      "You drifted about 500 miles .\n",
      "This is where your island was , about 600 miles south ofthe Cook lslands .\n",
      "And these are the search grids .\n",
      "Ships went back and forth for weeks looking foryou .\n",
      "I never should' ve gotten on that plane .\n",
      "I never should' ve gotten out ofthe car .\n",
      "I wanna show you something .\n",
      "Come here .\n",
      "This is -- This is our car .\n",
      "You kept our car .\n",
      "All right , now , this is weird .\n",
      "It' s a good car .\n",
      "Had a lot of memories in this car .\n",
      "Two very nice memories .\n",
      "Oh , that trip down to the Gulf , yeah .\n",
      "So , can I drive it ?\n",
      "It' s your car .\n",
      "That' s good , ' cause my -- my taxi' s gone .\n",
      "Um --\n",
      "Let me get some stuff out ofthe back .\n",
      "You thinkyou' re gonna have more kids ?\n",
      "I don' t know .\n",
      "It' s kind ofconfusing right now .\n",
      "Well , you should .\n",
      "I mean , really , you should .\n",
      "I would .\n",
      "So , what now ?\n",
      "I don' t know .\n",
      "I really don' t know .\n",
      "[ Starts Engine ]\n",
      "You said you' d be right back .\n",
      "I' m so sorry .\n",
      "Me too .\n",
      "Chuck !\n",
      "Chuck !\n",
      "Chuck !\n",
      "I always knew you were alive .\n",
      "I knew it .\n",
      "But everybody said I had to stop saying that -- that I had to let you go .\n",
      "I love you .\n",
      "You' re the love of my life .\n",
      "I love you too , Kelly .\n",
      "More than you' il ever know .\n",
      "Chuck ?\n",
      "You have to go home .\n",
      "We both had done the math , and --\n",
      "Kelly added it all up .\n",
      "She knew she had to let me go .\n",
      "I added it up , knew that I' d --\n",
      "I' d lost her .\n",
      "' Cause I was never gonna get offthat island .\n",
      "I was gonna die there , totally alone .\n",
      "I mean , I was gonna get sick or I was gonna get injured or something .\n",
      "The only choice I had , the only thing I could control ... was when and how ... and where that was gonna happen .\n",
      "So ...\n",
      "I made a rope .\n",
      "And I went up to the summit to hang myself .\n",
      "But I had to test it , you know ?\n",
      "Ofcourse .\n",
      "You know me .\n",
      "And the weight ofthe log ... snapped the limb ofthe tree .\n",
      "So l- l --\n",
      "I couldn' t even kill myself the way I wanted to .\n",
      "I had power over nothing .\n",
      "And that' s when this feeling came over me like a warm blanket .\n",
      "I knew ... somehow ... that I had to stay alive .\n",
      "Somehow .\n",
      "I had to keep breathing , even though there was no reason to hope .\n",
      "And all my logic said that I would never see this place again .\n",
      "So that' s what I did .\n",
      "I stayed alive .\n",
      "I kept breathing .\n",
      "And then one day that logic was proven all wrong , because the tide ... came in , gave me a sail .\n",
      "And now , here I am .\n",
      "I' m back ... in Memphis , talking to you .\n",
      "I have ice in my glass .\n",
      "And I' ve lost her all over again .\n",
      "I' m so sad that I don' t have Kelly .\n",
      "But I' m so grateful that she was with me on that island .\n",
      "And I know what I have to do now .\n",
      "I gotta keep breathing .\n",
      "Because tomorrow , the sun will rise .\n",
      "Who knows what the tide could bring ?\n",
      "[ Elvis Presley ]\n",
      "# lgave a letter to thepostman #\n",
      "# Heputitin hissack #\n",
      "# Brightandearly nextmorning #\n",
      "# He broughtmy letterback #\n",
      "# She wrote upon it #\n",
      "# Return tosender #\n",
      "# Address unknown #\n",
      "# Nosuch number ##\n",
      "Hello !\n",
      "Hello !\n",
      "[ Whistles ]\n",
      "FedEx !\n",
      "[ Door Alarm Beeping ]\n",
      "- You look lost .\n",
      "- I do ?\n",
      "Where are you headed ?\n",
      "Well , I was just about to figure that out .\n",
      "Well , that' s 83 South .\n",
      "Andthis roadhere will hookyou up with l- 40 East .\n",
      "Ifyou turn right , that' il take you to Amarillo , Flagstaff ,\n",
      "California .\n",
      "And ifyou head back that direction , you' il finda whole lotta nothin ' all the way to Canada .\n",
      "I got it .\n",
      "All right , then .\n",
      "Good luck , cowboy .\n",
      "- [ Starts Engine ]\n",
      "- Thankyou .\n",
      "\n"
     ]
    }
   ],
   "source": [
    "print X_train['subtitles'].ix[14219196]"
   ]
  },
  {
   "cell_type": "markdown",
   "metadata": {
    "deletable": true,
    "editable": true
   },
   "source": [
    "## Data Preprocessing"
   ]
  },
  {
   "cell_type": "code",
   "execution_count": 8,
   "metadata": {
    "collapsed": false,
    "deletable": true,
    "editable": true
   },
   "outputs": [],
   "source": [
    "fstopwords = open('nltk_data/corpora/stopwords/english', 'r')\n",
    "stopwords = fstopwords.read().split('\\n')"
   ]
  },
  {
   "cell_type": "code",
   "execution_count": 9,
   "metadata": {
    "collapsed": false,
    "deletable": true,
    "editable": true
   },
   "outputs": [],
   "source": [
    "vectorizer = TfidfVectorizer(analyzer='word', min_df=15, max_features=1000, norm='l2',\n",
    "                             stop_words=stopwords, use_idf=True, smooth_idf=True)\n",
    "X_train_vec = vectorizer.fit_transform(X_train['subtitles'])"
   ]
  },
  {
   "cell_type": "code",
   "execution_count": 28,
   "metadata": {
    "collapsed": false,
    "deletable": true,
    "editable": true,
    "scrolled": false
   },
   "outputs": [
    {
     "data": {
      "text/plain": [
       "<1x1000 sparse matrix of type '<type 'numpy.float64'>'\n",
       "\twith 372 stored elements in Compressed Sparse Row format>"
      ]
     },
     "execution_count": 28,
     "metadata": {},
     "output_type": "execute_result"
    }
   ],
   "source": [
    "X_train_vec[0]\n",
    "# X_train_vec.eliminate_zeros()"
   ]
  },
  {
   "cell_type": "raw",
   "metadata": {
    "deletable": true,
    "editable": true
   },
   "source": [
    "The extracted TF-IDF vectors are very sparse, with an average of 498 non-zero components by sample in a more than 1000-dimensional space:"
   ]
  },
  {
   "cell_type": "code",
   "execution_count": 29,
   "metadata": {
    "collapsed": false,
    "deletable": true,
    "editable": true,
    "scrolled": false
   },
   "outputs": [
    {
     "data": {
      "text/plain": [
       "497.905055487053"
      ]
     },
     "execution_count": 29,
     "metadata": {},
     "output_type": "execute_result"
    }
   ],
   "source": [
    "X_train_vec.nnz / float(X_train_vec.shape[0])"
   ]
  },
  {
   "cell_type": "code",
   "execution_count": 30,
   "metadata": {
    "collapsed": false,
    "deletable": true,
    "editable": true,
    "scrolled": true
   },
   "outputs": [
    {
     "name": "stdout",
     "output_type": "stream",
     "text": [
      "  (0, 960)\t0.0233423422341\n",
      "  (0, 93)\t0.0436701161784\n",
      "  (0, 128)\t0.0783606547284\n",
      "  (0, 402)\t0.0197635227011\n",
      "  (0, 485)\t0.0383185046013\n",
      "  (0, 245)\t0.015815421352\n",
      "  (0, 923)\t0.0781770781618\n",
      "  (0, 539)\t0.10875733891\n",
      "  (0, 256)\t0.0469074003787\n",
      "  (0, 387)\t0.0305809695705\n",
      "  (0, 956)\t0.0119600301367\n",
      "  (0, 680)\t0.0372582887463\n",
      "  (0, 938)\t0.0536467627951\n",
      "  (0, 120)\t0.0141531392941\n",
      "  (0, 623)\t0.0124714927662\n",
      "  (0, 718)\t0.0708277018332\n",
      "  (0, 461)\t0.0431926854709\n",
      "  (0, 647)\t0.00927788417793\n",
      "  (0, 819)\t0.0353732804824\n",
      "  (0, 484)\t0.0157673978251\n",
      "  (0, 428)\t0.127510498296\n",
      "  (0, 728)\t0.0215420101817\n",
      "  (0, 61)\t0.0264950477558\n",
      "  (0, 949)\t0.0128240786482\n",
      "  (0, 249)\t0.0442421106926\n",
      "  :\t:\n",
      "  (0, 390)\t0.0111591942828\n",
      "  (0, 89)\t0.0301537268601\n",
      "  (0, 902)\t0.0130848777137\n",
      "  (0, 266)\t0.0327748419887\n",
      "  (0, 839)\t0.0153466017465\n",
      "  (0, 928)\t0.0333503186399\n",
      "  (0, 507)\t0.0136685466708\n",
      "  (0, 305)\t0.0179897145356\n",
      "  (0, 398)\t0.0181139326258\n",
      "  (0, 706)\t0.00954509646368\n",
      "  (0, 911)\t0.0117301578276\n",
      "  (0, 935)\t0.0374584036267\n",
      "  (0, 892)\t0.0105038634417\n",
      "  (0, 287)\t0.014836671786\n",
      "  (0, 880)\t0.0128240786482\n",
      "  (0, 775)\t0.0133536535108\n",
      "  (0, 78)\t0.0101809658591\n",
      "  (0, 267)\t0.0150327011082\n",
      "  (0, 694)\t0.0178976897831\n",
      "  (0, 942)\t0.0107304124849\n",
      "  (0, 714)\t0.0119911391375\n",
      "  (0, 416)\t0.0115950662656\n",
      "  (0, 101)\t0.0182082621565\n",
      "  (0, 657)\t0.00938148007574\n",
      "  (0, 437)\t0.0241742870888\n"
     ]
    }
   ],
   "source": [
    "print X_train_vec[0]\n",
    "# print X_train_vec.getrow(0)\n",
    "# vectorized[0]"
   ]
  },
  {
   "cell_type": "code",
   "execution_count": 31,
   "metadata": {
    "collapsed": true,
    "deletable": true,
    "editable": true
   },
   "outputs": [],
   "source": [
    "vectorized = []"
   ]
  },
  {
   "cell_type": "code",
   "execution_count": 32,
   "metadata": {
    "collapsed": false,
    "deletable": true,
    "editable": true
   },
   "outputs": [],
   "source": [
    "for vec in X_train_vec:\n",
    "    vectorized.append(list(vec.indices))    "
   ]
  },
  {
   "cell_type": "code",
   "execution_count": 34,
   "metadata": {
    "collapsed": false,
    "deletable": true,
    "editable": true
   },
   "outputs": [],
   "source": [
    "# Sequence padding\n",
    "vectorized = pad_sequences(vectorized, maxlen=1000, value=0.)\n",
    "vectorized = pad_sequences(vectorized, maxlen=1000, value=0.)"
   ]
  },
  {
   "cell_type": "code",
   "execution_count": 35,
   "metadata": {
    "collapsed": false,
    "deletable": true,
    "editable": true
   },
   "outputs": [],
   "source": [
    "# Converting labels to binary vectors\n",
    "le = preprocessing.LabelEncoder()\n",
    "y_train_transformed = le.fit_transform(y_train)\n",
    "y_test_transformed = le.fit_transform(y_test)\n",
    "\n",
    "y_train_categorical = to_categorical(y_train_transformed, nb_classes=17)\n",
    "y_test_categorical = to_categorical(y_test_transformed, nb_classes=17)"
   ]
  },
  {
   "cell_type": "code",
   "execution_count": 37,
   "metadata": {
    "collapsed": false,
    "deletable": true,
    "editable": true,
    "scrolled": true
   },
   "outputs": [],
   "source": [
    "# Network building\n",
    "net = tflearn.input_data([None, 1000])\n",
    "net = tflearn.embedding(net, input_dim=1000, output_dim=128)\n",
    "net = tflearn.lstm(net, 128, dropout=0.8)\n",
    "net = tflearn.fully_connected(net, 17, activation='softmax')\n",
    "net = tflearn.regression(net, optimizer='adam', learning_rate=0.001,\n",
    "                         loss='categorical_crossentropy')"
   ]
  },
  {
   "cell_type": "code",
   "execution_count": 38,
   "metadata": {
    "collapsed": false,
    "deletable": true,
    "editable": true
   },
   "outputs": [
    {
     "name": "stdout",
     "output_type": "stream",
     "text": [
      "Training Step: 230  | total loss: \u001b[1m\u001b[32m1.92638\u001b[0m\u001b[0m\n",
      "| Adam | epoch: 010 | loss: 1.92638 - acc: 0.2614 | val_loss: 1.88131 - val_acc: 0.2927 -- iter: 729/729\n",
      "Training Step: 230  | total loss: \u001b[1m\u001b[32m1.92638\u001b[0m\u001b[0m\n",
      "| Adam | epoch: 010 | loss: 1.92638 - acc: 0.2614 | val_loss: 1.88131 - val_acc: 0.2927 -- iter: 729/729\n",
      "--\n"
     ]
    }
   ],
   "source": [
    "# Training\n",
    "model = tflearn.DNN(net, tensorboard_verbose=0, tensorboard_dir='./logs/')\n",
    "model.fit(vectorized, y_train_categorical, validation_set=0.1, show_metric=True, batch_size=32, run_id='dnn_test1d')"
   ]
  },
  {
   "cell_type": "code",
   "execution_count": 45,
   "metadata": {
    "collapsed": false,
    "deletable": true,
    "editable": true
   },
   "outputs": [
    {
     "name": "stdout",
     "output_type": "stream",
     "text": [
      "67928 2\n",
      "1.0 0.0\n",
      "9999 0\n",
      "1.0 0.0\n"
     ]
    }
   ],
   "source": [
    "print np.max(vectorized), np.min(vectorized)\n",
    "print np.max(y_train), np.min(y_train)\n",
    "print np.max(trainX), np.min(trainX)\n",
    "print np.max(trainY), np.min(trainY)"
   ]
  },
  {
   "cell_type": "code",
   "execution_count": null,
   "metadata": {
    "collapsed": true,
    "deletable": true,
    "editable": true
   },
   "outputs": [],
   "source": []
  }
 ],
 "metadata": {
  "kernelspec": {
   "display_name": "Python 3",
   "language": "python",
   "name": "python3"
  },
  "language_info": {
   "codemirror_mode": {
    "name": "ipython",
    "version": 3
   },
   "file_extension": ".py",
   "mimetype": "text/x-python",
   "name": "python",
   "nbconvert_exporter": "python",
   "pygments_lexer": "ipython3",
   "version": "3.5.2"
  }
 },
 "nbformat": 4,
 "nbformat_minor": 2
}
