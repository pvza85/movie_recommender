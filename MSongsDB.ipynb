{
 "cells": [
  {
   "cell_type": "code",
   "execution_count": 1,
   "metadata": {
    "collapsed": false
   },
   "outputs": [],
   "source": [
    "#usual imports\n",
    "import os\n",
    "import sys\n",
    "import time\n",
    "import glob\n",
    "import datetime\n",
    "import sqlite3\n",
    "import numpy as np # get it at: http://numpy.scipy.org/\n",
    "\n",
    "# path to the Million Song Dataset subset (uncompressed)\n",
    "msd_subset_path='/home/ezgi/python/MillionSongSubset'\n",
    "msd_subset_data_path=os.path.join(msd_subset_path,'data')\n",
    "msd_subset_addf_path=os.path.join(msd_subset_path,'AdditionalFiles')\n",
    "assert os.path.isdir(msd_subset_path),'wrong path' # sanity check\n",
    "\n",
    "# path to the Million Song Dataset code\n",
    "msd_code_path='/home/ezgi/python/MSongsDB'\n",
    "assert os.path.isdir(msd_code_path),'wrong path' # sanity check\n",
    "\n",
    "# we add some paths to python so we can import MSD code\n",
    "# Ubuntu: you can change the environment variable PYTHONPATH\n",
    "# in your .bashrc file so you do not have to type these lines\n",
    "sys.path.append( os.path.join(msd_code_path,'PythonSrc') )\n",
    "\n",
    "# imports specific to the MSD\n",
    "import hdf5_getters as GETTERS\n",
    "\n",
    "# the following function simply gives us a nice string for\n",
    "# a time lag in seconds\n",
    "def strtimedelta(starttime,stoptime):\n",
    "    return str(datetime.timedelta(seconds=stoptime-starttime))\n",
    "\n",
    "# we define this very useful function to iterate the files\n",
    "def apply_to_all_files(basedir,func=lambda x: x,ext='.h5'):\n",
    "    \"\"\"\n",
    "    From a base directory, go through all subdirectories,\n",
    "    find all files with the given extension, apply the\n",
    "    given function 'func' to all of them.\n",
    "    If no 'func' is passed, we do nothing except counting.\n",
    "    INPUT\n",
    "       basedir  - base directory of the dataset\n",
    "       func     - function to apply to all filenames\n",
    "       ext      - extension, .h5 by default\n",
    "    RETURN\n",
    "       number of files\n",
    "    \"\"\"\n",
    "    cnt = 0\n",
    "    # iterate over all files in all subdirectories\n",
    "    for root, dirs, files in os.walk(basedir):\n",
    "        files = glob.glob(os.path.join(root,'*'+ext))\n",
    "        # count files\n",
    "        cnt += len(files)\n",
    "        # apply function to all files\n",
    "        for f in files :\n",
    "            func(f)       \n",
    "    return cnt"
   ]
  },
  {
   "cell_type": "code",
   "execution_count": 2,
   "metadata": {
    "collapsed": false
   },
   "outputs": [
    {
     "name": "stdout",
     "output_type": "stream",
     "text": [
      "number of song files: 10000\n"
     ]
    }
   ],
   "source": [
    "# we can now easily count the number of files in the dataset\n",
    "print 'number of song files:',apply_to_all_files(msd_subset_data_path)"
   ]
  },
  {
   "cell_type": "code",
   "execution_count": 3,
   "metadata": {
    "collapsed": true
   },
   "outputs": [],
   "source": [
    "# let's now get all artist names in a set(). One nice property:\n",
    "# if we enter many times the same artist, only one will be kept.\n",
    "all_artist_names = set()\n",
    "\n",
    "# we define the function to apply to all files\n",
    "def func_to_get_artist_name(filename):\n",
    "    \"\"\"\n",
    "    This function does 3 simple things:\n",
    "    - open the song file\n",
    "    - get artist ID and put it\n",
    "    - close the file\n",
    "    \"\"\"\n",
    "    h5 = GETTERS.open_h5_file_read(filename)\n",
    "    artist_name = GETTERS.get_artist_name(h5)\n",
    "    all_artist_names.add( artist_name )\n",
    "    h5.close()"
   ]
  },
  {
   "cell_type": "code",
   "execution_count": 4,
   "metadata": {
    "collapsed": false
   },
   "outputs": [
    {
     "name": "stdout",
     "output_type": "stream",
     "text": [
      "all artist names extracted in: 0:02:00.602501\n"
     ]
    }
   ],
   "source": [
    "# let's apply the previous function to all files\n",
    "# we'll also measure how long it takes\n",
    "t1 = time.time()\n",
    "apply_to_all_files(msd_subset_data_path,func=func_to_get_artist_name)\n",
    "t2 = time.time()\n",
    "print 'all artist names extracted in:',strtimedelta(t1,t2)"
   ]
  },
  {
   "cell_type": "code",
   "execution_count": 6,
   "metadata": {
    "collapsed": false
   },
   "outputs": [
    {
     "name": "stdout",
     "output_type": "stream",
     "text": [
      "found 4412 unique artist names\n",
      "Pale Forest\n",
      "The Real Kids\n",
      "JennyAnyKind\n",
      "Little Willie John\n",
      "Barry Goldberg\n"
     ]
    }
   ],
   "source": [
    "# let's see some of the content of 'all_artist_names'\n",
    "print 'found',len(all_artist_names),'unique artist names'\n",
    "for k in range(5):\n",
    "    print list(all_artist_names)[k]"
   ]
  },
  {
   "cell_type": "code",
   "execution_count": 7,
   "metadata": {
    "collapsed": false
   },
   "outputs": [
    {
     "name": "stdout",
     "output_type": "stream",
     "text": [
      "all artist names extracted (SQLite) in: 0:00:00.112172\n",
      "!!!\n",
      "(hed) p.e.\n",
      "089 Clique feat. Minnesota Snipe & Skinny Cueball\n",
      "089 Clique feat. Prophet\n",
      "1. Futurologischer Congress\n"
     ]
    }
   ],
   "source": [
    "# this is too long, and the work of listing artist names has already\n",
    "# been done. Let's redo the same task using an SQLite database.\n",
    "# We connect to the provided database: track_metadata.db\n",
    "conn = sqlite3.connect(os.path.join(msd_subset_addf_path,\n",
    "                                    'subset_track_metadata.db'))\n",
    "# we build the SQL query\n",
    "q = \"SELECT DISTINCT artist_name FROM songs\"\n",
    "# we query the database\n",
    "t1 = time.time()\n",
    "res = conn.execute(q)\n",
    "all_artist_names_sqlite = res.fetchall()\n",
    "t2 = time.time()\n",
    "print 'all artist names extracted (SQLite) in:',strtimedelta(t1,t2)\n",
    "# we close the connection to the database\n",
    "conn.close()\n",
    "# let's see some of the content\n",
    "for k in range(5):\n",
    "    print all_artist_names_sqlite[k][0]"
   ]
  },
  {
   "cell_type": "code",
   "execution_count": 10,
   "metadata": {
    "collapsed": false
   },
   "outputs": [
    {
     "name": "stdout",
     "output_type": "stream",
     "text": [
      "AR009211187B989185\n",
      "AR00A6H1187FB5402A\n",
      "AR00LNI1187FB444A5\n",
      "AR00MBZ1187B9B5DB1\n"
     ]
    }
   ],
   "source": [
    "# now, let's find the artist that has the most songs in the dataset\n",
    "# what we want to work with is artist ID, not artist names. Some artists\n",
    "# have many names, usually because the song is \"featuring someone else\"\n",
    "conn = sqlite3.connect(os.path.join(msd_subset_addf_path,\n",
    "                                    'subset_track_metadata.db'))\n",
    "q = \"SELECT DISTINCT artist_id FROM songs\"\n",
    "res = conn.execute(q)\n",
    "all_artist_ids = map(lambda x: x[0], res.fetchall())\n",
    "conn.close()\n",
    "\n",
    "# The Echo Nest artist id look like:\n",
    "for k in range(4):\n",
    "    print all_artist_ids[k]"
   ]
  },
  {
   "cell_type": "code",
   "execution_count": 12,
   "metadata": {
    "collapsed": false
   },
   "outputs": [
    {
     "data": {
      "text/plain": [
       "10000"
      ]
     },
     "execution_count": 12,
     "metadata": {},
     "output_type": "execute_result"
    }
   ],
   "source": [
    "# let's count the songs from each of these artists.\n",
    "# We will do it first by iterating over the dataset.\n",
    "# we prepare a dictionary to count files\n",
    "files_per_artist = {}\n",
    "for aid in all_artist_ids:\n",
    "    files_per_artist[aid] = 0\n",
    "\n",
    "# we prepare the function to check artist id in each file\n",
    "def func_to_count_artist_id(filename):\n",
    "    \"\"\"\n",
    "    This function does 3 simple things:\n",
    "    - open the song file\n",
    "    - get artist ID and put it\n",
    "    - close the file\n",
    "    \"\"\"\n",
    "    h5 = GETTERS.open_h5_file_read(filename)\n",
    "    artist_id = GETTERS.get_artist_id(h5)\n",
    "    files_per_artist[artist_id] += 1\n",
    "    h5.close()\n",
    "\n",
    "# we apply this function to all files\n",
    "apply_to_all_files(msd_subset_data_path,func=func_to_count_artist_id)"
   ]
  },
  {
   "cell_type": "code",
   "execution_count": 13,
   "metadata": {
    "collapsed": false
   },
   "outputs": [
    {
     "name": "stdout",
     "output_type": "stream",
     "text": [
      "AROIHOI122988FEB8E has 13 songs.\n",
      "SQL query: SELECT DISTINCT artist_name FROM songs WHERE artist_id='AROIHOI122988FEB8E'\n",
      "name(s) of the most popular artist: [u'Mario Rosenstock']\n"
     ]
    }
   ],
   "source": [
    "# the most popular artist (with the most songs) is:\n",
    "most_pop_aid = sorted(files_per_artist,\n",
    "                      key=files_per_artist.__getitem__,\n",
    "                      reverse=True)[0]\n",
    "print most_pop_aid,'has',files_per_artist[most_pop_aid],'songs.'\n",
    "\n",
    "# of course, it is more fun to have the name(s) of this artist\n",
    "# let's get it using SQLite\n",
    "conn = sqlite3.connect(os.path.join(msd_subset_addf_path,\n",
    "                                    'subset_track_metadata.db'))\n",
    "q = \"SELECT DISTINCT artist_name FROM songs\"\n",
    "q += \" WHERE artist_id='\"+most_pop_aid+\"'\"\n",
    "res = conn.execute(q)\n",
    "pop_artist_names = map(lambda x: x[0], res.fetchall())\n",
    "conn.close()\n",
    "print 'SQL query:',q\n",
    "print 'name(s) of the most popular artist:',pop_artist_names"
   ]
  },
  {
   "cell_type": "code",
   "execution_count": 14,
   "metadata": {
    "collapsed": false
   },
   "outputs": [
    {
     "name": "stdout",
     "output_type": "stream",
     "text": [
      "found most popular artist in 0:00:00.061570\n",
      "(u'AROIHOI122988FEB8E', u'Mario Rosenstock', 13)\n"
     ]
    }
   ],
   "source": [
    "# let's redo all this work in SQLite in a few seconds\n",
    "t1 = time.time()\n",
    "conn = sqlite3.connect(os.path.join(msd_subset_addf_path,\n",
    "                                    'subset_track_metadata.db'))\n",
    "q = \"SELECT DISTINCT artist_id,artist_name,Count(track_id) FROM songs\"\n",
    "q += \" GROUP BY artist_id\"\n",
    "res = conn.execute(q)\n",
    "pop_artists = res.fetchall()\n",
    "conn.close()\n",
    "t2 = time.time()\n",
    "print 'found most popular artist in',strtimedelta(t1,t2)\n",
    "print sorted(pop_artists,key=lambda x:x[2],reverse=True)[0]"
   ]
  },
  {
   "cell_type": "code",
   "execution_count": null,
   "metadata": {
    "collapsed": true
   },
   "outputs": [],
   "source": []
  }
 ],
 "metadata": {
  "kernelspec": {
   "display_name": "Python 2",
   "language": "python",
   "name": "python2"
  },
  "language_info": {
   "codemirror_mode": {
    "name": "ipython",
    "version": 2
   },
   "file_extension": ".py",
   "mimetype": "text/x-python",
   "name": "python",
   "nbconvert_exporter": "python",
   "pygments_lexer": "ipython2",
   "version": "2.7.12"
  }
 },
 "nbformat": 4,
 "nbformat_minor": 2
}
